{
 "cells": [
  {
   "cell_type": "markdown",
   "metadata": {},
   "source": [
    "# Conditionals"
   ]
  },
  {
   "cell_type": "markdown",
   "metadata": {},
   "source": [
    "## Problem 1"
   ]
  },
  {
   "cell_type": "code",
   "execution_count": 4,
   "metadata": {},
   "outputs": [
    {
     "name": "stdout",
     "output_type": "stream",
     "text": [
      "Number 1 :355\n",
      "Number 2 :777\n",
      "The number 777 is the greatest: \n"
     ]
    }
   ],
   "source": [
    "n1=int(input(\"Number 1 :\"))\n",
    "n2=int(input(\"Number 2 :\"))\n",
    "\n",
    "if n1>n2:\n",
    "    print(\"The number %s is the greatest: \" %n1) \n",
    "else:\n",
    "    print(\"The number %s is the greatest: \" %n2)"
   ]
  },
  {
   "cell_type": "markdown",
   "metadata": {},
   "source": [
    "#### <font color='red'>wrong printing form. must be \"the number 119 is the greatest\"</font>"
   ]
  },
  {
   "cell_type": "markdown",
   "metadata": {},
   "source": [
    "## Problem 2"
   ]
  },
  {
   "cell_type": "code",
   "execution_count": 6,
   "metadata": {},
   "outputs": [
    {
     "name": "stdout",
     "output_type": "stream",
     "text": [
      "Rectangle\n"
     ]
    }
   ],
   "source": [
    "a=35\n",
    "b=43\n",
    "if a==b:\n",
    "    print(\"Square\")\n",
    "else:\n",
    "    print(\"Rectangle\")"
   ]
  },
  {
   "cell_type": "markdown",
   "metadata": {},
   "source": [
    "#### <font color='red'>no need to parse from string. It can be just a = 35, b = 43 ...</font>"
   ]
  },
  {
   "cell_type": "markdown",
   "metadata": {},
   "source": [
    "## Problem 3"
   ]
  },
  {
   "cell_type": "code",
   "execution_count": 7,
   "metadata": {},
   "outputs": [
    {
     "name": "stdout",
     "output_type": "stream",
     "text": [
      "Welcome Mr.Batman!\n",
      "Dear Batman, you are too young to register\n",
      "OK\n"
     ]
    }
   ],
   "source": [
    "name=\"Batman\"\n",
    "age=int(\"15\")\n",
    "password=\"adj654@*\"\n",
    "\n",
    "if name == \"Batman\":\n",
    "    print(\"Welcome Mr.%s!\" %name)\n",
    "if age < 16:\n",
    "    print(\"Dear %s, you are too young to register\" %name)\n",
    "if (\"*\" not in password) and (\"&\" not in password):\n",
    "    print(\"Please enter a different password\")\n",
    "else:\n",
    "    print(\"OK\")"
   ]
  },
  {
   "cell_type": "markdown",
   "metadata": {},
   "source": [
    "#### <font color='red'>it should be \"Batman\" and not \"Siranush\".</font>"
   ]
  },
  {
   "cell_type": "markdown",
   "metadata": {},
   "source": [
    "## Problem 4"
   ]
  },
  {
   "cell_type": "code",
   "execution_count": 58,
   "metadata": {},
   "outputs": [
    {
     "name": "stdout",
     "output_type": "stream",
     "text": [
      "Weight value :90\n",
      "7\n"
     ]
    }
   ],
   "source": [
    "d={\"name\": \"Armen\", \"age\": 15, \"grades\": [10, 8,8, 4, 6, 7], \"weight\":7 }\n",
    "n=int(input(\"Weight value :\"))\n",
    "if \"weight\" not in d:\n",
    "    d['weight'] = n\n",
    "    print(d)\n",
    "else:\n",
    "    print(d['weight'])"
   ]
  },
  {
   "cell_type": "code",
   "execution_count": 57,
   "metadata": {},
   "outputs": [
    {
     "name": "stdout",
     "output_type": "stream",
     "text": [
      "Weight value :90\n",
      "{'name': 'Armen', 'age': 15, 'grades': [10, 8, 8, 4, 6, 7], 'weight': 90}\n"
     ]
    }
   ],
   "source": [
    "d={\"name\": \"Armen\", \"age\": 15, \"grades\": [10, 8,8, 4, 6, 7]}\n",
    "n=int(input(\"Weight value :\"))\n",
    "if \"weight\" not in d:\n",
    "    d['weight'] = n\n",
    "    print(d)\n",
    "else:\n",
    "    print(d['weight'])"
   ]
  },
  {
   "cell_type": "markdown",
   "metadata": {},
   "source": [
    "# Loops"
   ]
  },
  {
   "cell_type": "markdown",
   "metadata": {},
   "source": [
    "## Problem 5"
   ]
  },
  {
   "cell_type": "code",
   "execution_count": 2,
   "metadata": {},
   "outputs": [
    {
     "name": "stdout",
     "output_type": "stream",
     "text": [
      "[1, 3, 5, 7, 9, 11, 13, 15, 17, 19, 21, 23, 25, 27, 29, 31, 33, 35, 37, 39, 41, 43, 45, 47, 49, 51, 53, 55, 57, 59, 61, 63, 65, 67, 69, 71, 73, 75, 77, 79, 81, 83, 85, 87, 89, 91, 93, 95, 97, 99]\n"
     ]
    }
   ],
   "source": [
    "list1 = list(range(1,101))\n",
    "odds=[]\n",
    "evens=[]\n",
    "for n in list1:\n",
    "    if n%2==0:\n",
    "        evens.append(n)\n",
    "    else:\n",
    "        odds.append(n)\n",
    "print(odds)"
   ]
  },
  {
   "cell_type": "markdown",
   "metadata": {},
   "source": [
    "## Problem 6"
   ]
  },
  {
   "cell_type": "code",
   "execution_count": 80,
   "metadata": {},
   "outputs": [
    {
     "name": "stdout",
     "output_type": "stream",
     "text": [
      "1\n",
      "3\n",
      "5\n",
      "6\n"
     ]
    }
   ],
   "source": [
    "c = 0\n",
    "\n",
    "while c<6:\n",
    "    c += 1\n",
    "    \n",
    "    if c == 2 or c == 4 :\n",
    "        continue\n",
    "    print(c)"
   ]
  },
  {
   "cell_type": "markdown",
   "metadata": {},
   "source": [
    "## Problem 7"
   ]
  },
  {
   "cell_type": "code",
   "execution_count": 4,
   "metadata": {},
   "outputs": [
    {
     "name": "stdout",
     "output_type": "stream",
     "text": [
      "1\n",
      "2\n",
      "3\n",
      "4\n",
      "5\n",
      "6\n",
      "7\n",
      "8\n",
      "9\n",
      "10\n",
      "11\n",
      "12\n",
      "13\n",
      "14\n",
      "15\n"
     ]
    }
   ],
   "source": [
    "c = 0\n",
    "\n",
    "while c<20:\n",
    "    c += 1\n",
    "    print(c)\n",
    "    if c%3 == 0 and c%5 == 0:\n",
    "        break\n",
    "    "
   ]
  },
  {
   "cell_type": "markdown",
   "metadata": {},
   "source": [
    "## Problem 8"
   ]
  },
  {
   "cell_type": "code",
   "execution_count": 2,
   "metadata": {},
   "outputs": [
    {
     "name": "stdout",
     "output_type": "stream",
     "text": [
      "5\n",
      "7\n",
      "-7\n",
      "abc\n",
      "2\n",
      "4\n",
      "True\n"
     ]
    }
   ],
   "source": [
    "list1 = [5, 7, -7, \"abc\", 2, 4, True, 3, 4, 6, 7, 7]\n",
    "# print(n)\n",
    "for n in list1:\n",
    "    if n==3:\n",
    "        break\n",
    "    print(n)"
   ]
  },
  {
   "cell_type": "markdown",
   "metadata": {},
   "source": [
    "## Problem 9"
   ]
  },
  {
   "cell_type": "code",
   "execution_count": 12,
   "metadata": {},
   "outputs": [
    {
     "name": "stdout",
     "output_type": "stream",
     "text": [
      "value :1\n",
      "No\n",
      "value :1\n",
      "No\n",
      "value :1\n",
      "No\n",
      "value :1\n",
      "No\n",
      "value :1\n",
      "No\n",
      "value :1\n",
      "No\n",
      "value :1\n",
      "No\n",
      "value :1\n",
      "No\n",
      "value :1\n",
      "No\n",
      "value :1\n",
      "No\n"
     ]
    }
   ],
   "source": [
    "correct_num = 5\n",
    "\n",
    "i=0\n",
    "while i<10:\n",
    "    guess=int(input(\"value :\"))\n",
    "    i += 1\n",
    "    if guess==correct_num:\n",
    "        print(\"That was a good guess!\")\n",
    "        break\n",
    "    else:\n",
    "        print(\"No\")"
   ]
  },
  {
   "cell_type": "markdown",
   "metadata": {},
   "source": [
    "# List comprehension"
   ]
  },
  {
   "cell_type": "markdown",
   "metadata": {},
   "source": [
    "## Problem 10"
   ]
  },
  {
   "cell_type": "code",
   "execution_count": 26,
   "metadata": {},
   "outputs": [
    {
     "name": "stdout",
     "output_type": "stream",
     "text": [
      "[7, 8, 120, 25, 44, 20, 27]\n",
      "[8, 120, 44, 20]\n"
     ]
    }
   ],
   "source": [
    "num=[7,8, 120, 25, 44, 20, 27]\n",
    "print(num)\n",
    "for n in num:\n",
    "    if n%2==1:\n",
    "         num.remove(n) \n",
    "print(num)"
   ]
  },
  {
   "cell_type": "markdown",
   "metadata": {},
   "source": [
    "#### <font color='red'>this is not list comprehension.</font>"
   ]
  },
  {
   "cell_type": "markdown",
   "metadata": {},
   "source": [
    "## Problem 11"
   ]
  },
  {
   "cell_type": "code",
   "execution_count": 37,
   "metadata": {},
   "outputs": [
    {
     "name": "stdout",
     "output_type": "stream",
     "text": [
      "[0, 1, 4, 9, 16, 25, 36, 49, 64, 81, 100, 121, 144, 169, 196, 225, 256, 289, 324, 361, 400, 441, 484, 529, 576, 625, 676, 729, 784, 841, 900, 961, 1024, 1089, 1156, 1225, 1296, 1369, 1444, 1521, 1600, 1681, 1764, 1849, 1936, 2025, 2116, 2209, 2304, 2401, 2500]\n"
     ]
    }
   ],
   "source": [
    "list3 = list(range(0,51))\n",
    "\n",
    "n = [x**2 for x in list3]\n",
    "print(n)"
   ]
  },
  {
   "cell_type": "markdown",
   "metadata": {},
   "source": [
    "## Problem 12"
   ]
  },
  {
   "cell_type": "code",
   "execution_count": 40,
   "metadata": {},
   "outputs": [
    {
     "name": "stdout",
     "output_type": "stream",
     "text": [
      "[7, 8, 120, 25, 44, 20, 27]\n",
      "[120, 25, 44, 27]\n"
     ]
    }
   ],
   "source": [
    "list1=[7,8, 120, 25, 44, 20, 27]\n",
    "print(list1)\n",
    "list2=[n for n in list1 if n>20]\n",
    "print(list2)"
   ]
  },
  {
   "cell_type": "markdown",
   "metadata": {},
   "source": [
    "## Problem 13"
   ]
  },
  {
   "cell_type": "code",
   "execution_count": 4,
   "metadata": {},
   "outputs": [
    {
     "name": "stdout",
     "output_type": "stream",
     "text": [
      "Value :asdasd\n",
      "asdasd\n",
      "['a', 's', 'd', 'a', 's', 'd']\n"
     ]
    }
   ],
   "source": [
    "str1=str(input(\"Value :\"))\n",
    "print(str1)\n",
    "l1=[n[:] for n in str1]\n",
    "print(l1)\n"
   ]
  },
  {
   "cell_type": "markdown",
   "metadata": {},
   "source": [
    "## Problem 14"
   ]
  },
  {
   "cell_type": "code",
   "execution_count": 5,
   "metadata": {},
   "outputs": [
    {
     "data": {
      "text/plain": [
       "2"
      ]
     },
     "execution_count": 5,
     "metadata": {},
     "output_type": "execute_result"
    }
   ],
   "source": [
    "list1=[\"a\", \"abc\", \"xyz\", \"s\", \"aba\", \"1221\"]\n",
    "a= [n for n in list1 if len(n)>=2 and n[0]==n[-1]]\n",
    "len(a)\n",
    "        "
   ]
  },
  {
   "cell_type": "markdown",
   "metadata": {},
   "source": [
    "#### <font color='red'>it was asked to get the count of such words. So here we should print '2' instead of 'aba' and '1221'</font>"
   ]
  }
 ],
 "metadata": {
  "kernelspec": {
   "display_name": "Python 3",
   "language": "python",
   "name": "python3"
  },
  "language_info": {
   "codemirror_mode": {
    "name": "ipython",
    "version": 3
   },
   "file_extension": ".py",
   "mimetype": "text/x-python",
   "name": "python",
   "nbconvert_exporter": "python",
   "pygments_lexer": "ipython3",
   "version": "3.7.4"
  }
 },
 "nbformat": 4,
 "nbformat_minor": 2
}
