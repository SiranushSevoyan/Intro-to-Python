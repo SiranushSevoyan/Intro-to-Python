{
 "cells": [
  {
   "cell_type": "markdown",
   "metadata": {},
   "source": [
    "# Problem 1"
   ]
  },
  {
   "cell_type": "code",
   "execution_count": 17,
   "metadata": {},
   "outputs": [
    {
     "name": "stdout",
     "output_type": "stream",
     "text": [
      "['goodbye', '2', 'False']\n",
      "['hello', 1, True, ['goodbye', '2', 'False']]\n",
      "['hello', 1, True, 'goodbye', '2', 'False']\n"
     ]
    }
   ],
   "source": [
    "run Problem1 \"goodbye\" 2 False\n"
   ]
  },
  {
   "cell_type": "markdown",
   "metadata": {},
   "source": [
    "# Problem 2"
   ]
  },
  {
   "cell_type": "code",
   "execution_count": 16,
   "metadata": {},
   "outputs": [
    {
     "name": "stdout",
     "output_type": "stream",
     "text": [
      "['goodbye', '2', 'False']\n",
      "['hello', 1, True, 'goodbye', '2', 'False']\n"
     ]
    }
   ],
   "source": [
    "run Problem2 \"goodbye\" 2 False\n"
   ]
  },
  {
   "cell_type": "markdown",
   "metadata": {},
   "source": [
    "# Problem 3"
   ]
  },
  {
   "cell_type": "code",
   "execution_count": 38,
   "metadata": {},
   "outputs": [
    {
     "name": "stdout",
     "output_type": "stream",
     "text": [
      "2\n"
     ]
    }
   ],
   "source": [
    "run Problem3.py hi"
   ]
  },
  {
   "cell_type": "markdown",
   "metadata": {},
   "source": [
    "# Problem 4"
   ]
  },
  {
   "cell_type": "code",
   "execution_count": 43,
   "metadata": {},
   "outputs": [
    {
     "name": "stdout",
     "output_type": "stream",
     "text": [
      "[0, 'hi', 2, 100, 300, 2, 'hi']\n",
      "[0, 2, 100, 300, 2, 'hi']\n"
     ]
    }
   ],
   "source": [
    "run Problem4.py hi"
   ]
  },
  {
   "cell_type": "markdown",
   "metadata": {},
   "source": [
    "# Problem 5"
   ]
  },
  {
   "cell_type": "code",
   "execution_count": 51,
   "metadata": {},
   "outputs": [
    {
     "name": "stdout",
     "output_type": "stream",
     "text": [
      "[0, 'hi', 2, 100, 300, 2, 'hi', 0, 'hi', 2, 100, 300, 2, 'hi']\n",
      "[0, 'hi', 2, 100, 300, 'hi', 0, 'hi', 2, 100, 300, 2, 'hi']\n",
      "[0, 'hi', 2, 100, 'hi', 0, 'hi', 2, 100, 300, 2, 'hi']\n",
      "['hi', 2, 100, 'hi', 0, 'hi', 2, 100, 300, 2, 'hi']\n"
     ]
    }
   ],
   "source": [
    "list5=[0, 'hi', 2, 100, 300, 2, \"hi\",0, 'hi', 2, 100, 300, 2, \"hi\"]\n",
    "print(list5)\n",
    "del list5[5]\n",
    "print (list5)\n",
    "del list5[4]\n",
    "print (list5)\n",
    "del list5[0]\n",
    "print (list5)"
   ]
  },
  {
   "cell_type": "markdown",
   "metadata": {},
   "source": [
    "# Problem 6"
   ]
  },
  {
   "cell_type": "code",
   "execution_count": 56,
   "metadata": {},
   "outputs": [
    {
     "name": "stdout",
     "output_type": "stream",
     "text": [
      "[0, 'hi', 2, 100, 300, 2, 'hi', 0, 'hi', 2, 100, 300, 2, 'hi']\n",
      "[0, 'hi', 2, 100, 300, 'hi', 0, 'hi', 2, 100, 300, 2, 'hi']\n",
      "[0, 'hi', 2, 100, 'hi', 0, 'hi', 2, 100, 300, 2, 'hi']\n",
      "['hi', 2, 100, 'hi', 0, 'hi', 2, 100, 300, 2, 'hi']\n",
      "[0, 'hi', 2, 100, 300, 2, 'hi', 0, 'hi', 2, 100, 300, 2, 'hi']\n"
     ]
    }
   ],
   "source": [
    "list5=[0, 'hi', 2, 100, 300, 2, \"hi\",0, 'hi', 2, 100, 300, 2, \"hi\"]\n",
    "print(list5)\n",
    "list6=list5.copy()\n",
    "del list6[5]\n",
    "print (list6)\n",
    "del list6[4]\n",
    "print (list6)\n",
    "del list6[0]\n",
    "print (list6)\n",
    "print(list5)"
   ]
  },
  {
   "cell_type": "markdown",
   "metadata": {},
   "source": [
    "# Problem 7"
   ]
  },
  {
   "cell_type": "code",
   "execution_count": 64,
   "metadata": {},
   "outputs": [
    {
     "name": "stdout",
     "output_type": "stream",
     "text": [
      "[0, 'hi', 2, 100, 300, 2, 'hi', 0, 'hi', 2, 100, 300, 2, 'hi']\n",
      "[0, 'hi', 2, 100, 300, 2, 'hi', 0, 'hi', 2, 100, 300, 2, 'hello', 1, True, 'goodbye', '2', 'False']\n"
     ]
    }
   ],
   "source": [
    "l1=[0, 'hi', 2, 100, 300, 2, \"hi\",0, 'hi', 2, 100, 300, 2, \"hi\"]\n",
    "l2=['hello', 1, True, 'goodbye', '2', 'False']\n",
    "print(l1)\n",
    "del l1[-1]\n",
    "l1.extend(l2)\n",
    "print(l1)"
   ]
  },
  {
   "cell_type": "code",
   "execution_count": 77,
   "metadata": {},
   "outputs": [
    {
     "name": "stdout",
     "output_type": "stream",
     "text": [
      "(0, 'hi', 2, 100, 'Hello', 2, 'hi', 0, 'hi', 2, 100, 300, 2, 'hello', 1, True, 'goodbye', '2', 'False')\n"
     ]
    }
   ],
   "source": [
    "t1=(0, 'hi', 2, 100, 300, 2, 'hi', 0, 'hi', 2, 100, 300, 2, 'hello', 1, True, 'goodbye', '2', 'False')\n",
    "t2=t1[:4]\n",
    "t3=(\"Hello\", )\n",
    "t4=t1[5:]\n",
    "print(t2+t3+t4)"
   ]
  },
  {
   "cell_type": "markdown",
   "metadata": {},
   "source": [
    "# Problem 8"
   ]
  },
  {
   "cell_type": "code",
   "execution_count": 78,
   "metadata": {},
   "outputs": [
    {
     "name": "stdout",
     "output_type": "stream",
     "text": [
      "{1, 'False', '2', 'goodbye', 'hello'}\n",
      "{1, 'False', 'Bye', '2', 'goodbye', 'hello'}\n"
     ]
    }
   ],
   "source": [
    "run Problem8.py \"Bye\""
   ]
  },
  {
   "cell_type": "markdown",
   "metadata": {},
   "source": [
    "# Problem 9"
   ]
  },
  {
   "cell_type": "code",
   "execution_count": 87,
   "metadata": {},
   "outputs": [
    {
     "name": "stdout",
     "output_type": "stream",
     "text": [
      "{1, 'False', '2', 'goodbye', 'hello'}\n",
      "{1, 'False', '2', 'hello'}\n"
     ]
    }
   ],
   "source": [
    "run Problem9.py \"goodbye\"\n"
   ]
  },
  {
   "cell_type": "markdown",
   "metadata": {},
   "source": [
    "# Problem 10"
   ]
  },
  {
   "cell_type": "code",
   "execution_count": 88,
   "metadata": {},
   "outputs": [
    {
     "name": "stdout",
     "output_type": "stream",
     "text": [
      "{1, 'False', '2', 'goodbye', 'hello'}\n",
      "{1, 'False', '2', 'goodbye', 'hello'}\n"
     ]
    }
   ],
   "source": [
    "run Problem10.py \"goodttttbye\""
   ]
  },
  {
   "cell_type": "markdown",
   "metadata": {},
   "source": [
    "# Problem 11"
   ]
  },
  {
   "cell_type": "code",
   "execution_count": 93,
   "metadata": {},
   "outputs": [
    {
     "name": "stdout",
     "output_type": "stream",
     "text": [
      "{0, 1, 2, 'False', 'Bye', '2', 'hi', 'goodbye', 'hello'}\n",
      "{'hello', 'False', 'Bye'}\n",
      "{'hello', 'False', 'Bye'}\n"
     ]
    }
   ],
   "source": [
    "set1={1, 'False', 'Bye', '2', 'goodbye', 'hello'}\n",
    "set2={0, 'hi', 2, 'False', 'hello', 2, 'Bye', 0}\n",
    "print(set1.union(set2))\n",
    "print(set1.intersection(set2))\n"
   ]
  },
  {
   "cell_type": "markdown",
   "metadata": {},
   "source": [
    "# Problem 12"
   ]
  },
  {
   "cell_type": "code",
   "execution_count": 113,
   "metadata": {},
   "outputs": [
    {
     "name": "stdout",
     "output_type": "stream",
     "text": [
      "1\n",
      "98\n",
      "False\n"
     ]
    }
   ],
   "source": [
    "run Problem12.py 100"
   ]
  },
  {
   "cell_type": "markdown",
   "metadata": {},
   "source": [
    "# Problem 13"
   ]
  },
  {
   "cell_type": "code",
   "execution_count": 114,
   "metadata": {},
   "outputs": [
    {
     "name": "stdout",
     "output_type": "stream",
     "text": [
      "300\n",
      "True\n"
     ]
    }
   ],
   "source": [
    "t1=(0, 'hi', 2, 100, 300, 2, 'hi', 0, 'hi', 2, 100, 300, 2, 'hello', 1, True, 'goodbye', '2', 'False')\n",
    "print(t1[4])\n",
    "print(t1[-4])"
   ]
  },
  {
   "cell_type": "markdown",
   "metadata": {},
   "source": [
    "# Problem 14"
   ]
  },
  {
   "cell_type": "code",
   "execution_count": 115,
   "metadata": {},
   "outputs": [
    {
     "name": "stdout",
     "output_type": "stream",
     "text": [
      "[0, 'hi', 2, 100, 300, 2, 'hi', 0, 'hi', 2, 100, 300, 2, 'hello', 1, True, 'goodbye', '2', 'False']\n",
      "(0, 'hi', 2, 100, 'helllllo', 2, 'hi', 0, 'hi', 2, 100, 300, 2, 'hello', 1, True, 'goodbye', '2', 'False')\n"
     ]
    }
   ],
   "source": [
    "t1=(0, 'hi', 2, 100, 300, 2, 'hi', 0, 'hi', 2, 100, 300, 2, 'hello', 1, True, 'goodbye', '2', 'False')\n",
    "l1=list(t1)\n",
    "l3=[\"helllllo\"]\n",
    "print(l1)\n",
    "l2=(l1[0:4]+l3+l1[5:])\n",
    "t1=tuple(l2)\n",
    "print(t1)"
   ]
  },
  {
   "cell_type": "code",
   "execution_count": 118,
   "metadata": {},
   "outputs": [
    {
     "name": "stdout",
     "output_type": "stream",
     "text": [
      "(0, 'hi', 2, 100, 300, 2, 'hi', 0, 'hi', 2, 100, 300, 2, 'hello', 1, True, 'goodbye', '2', 'False')\n",
      "(0, 'hi', 2, 100, 'helllllo', 2, 'hi', 0, 'hi', 2, 100, 300, 2, 'hello', 1, True, 'goodbye', '2', 'False')\n"
     ]
    }
   ],
   "source": [
    "t1=(0, 'hi', 2, 100, 300, 2, 'hi', 0, 'hi', 2, 100, 300, 2, 'hello', 1, True, 'goodbye', '2', 'False')\n",
    "print(t1)\n",
    "t2=t1[:4]\n",
    "t3=(\"helllllo\", )\n",
    "t4=t1[5:]\n",
    "print(t2+t3+t4)"
   ]
  },
  {
   "cell_type": "markdown",
   "metadata": {},
   "source": [
    "# Problem 15"
   ]
  },
  {
   "cell_type": "code",
   "execution_count": 130,
   "metadata": {},
   "outputs": [
    {
     "name": "stdout",
     "output_type": "stream",
     "text": [
      "{'Mariam': 'David', 'Lilit': '?????', 'Siranush': '????'}\n"
     ]
    }
   ],
   "source": [
    "run Problem15.py Siranush ????"
   ]
  },
  {
   "cell_type": "markdown",
   "metadata": {},
   "source": [
    "# Problem 16"
   ]
  },
  {
   "cell_type": "code",
   "execution_count": 133,
   "metadata": {},
   "outputs": [
    {
     "name": "stdout",
     "output_type": "stream",
     "text": [
      "((1, 'a'), (2, 'b'), (3, 'c'))\n"
     ]
    }
   ],
   "source": [
    "l1=[(1, \"a\"), (2, \"b\"), (3, \"c\")]\n",
    "t1=tuple(l1)\n",
    "print(t1)"
   ]
  },
  {
   "cell_type": "code",
   "execution_count": null,
   "metadata": {},
   "outputs": [],
   "source": []
  }
 ],
 "metadata": {
  "kernelspec": {
   "display_name": "Python 3",
   "language": "python",
   "name": "python3"
  },
  "language_info": {
   "codemirror_mode": {
    "name": "ipython",
    "version": 3
   },
   "file_extension": ".py",
   "mimetype": "text/x-python",
   "name": "python",
   "nbconvert_exporter": "python",
   "pygments_lexer": "ipython3",
   "version": "3.7.4"
  }
 },
 "nbformat": 4,
 "nbformat_minor": 2
}
