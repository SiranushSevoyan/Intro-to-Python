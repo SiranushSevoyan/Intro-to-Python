{
 "cells": [
  {
   "cell_type": "markdown",
   "metadata": {},
   "source": [
    "# Lists"
   ]
  },
  {
   "cell_type": "code",
   "execution_count": 1,
   "metadata": {},
   "outputs": [
    {
     "name": "stdout",
     "output_type": "stream",
     "text": [
      "2)  7\n",
      "2)  -2 \n",
      "\n",
      "3)  [1, 4, 5, 7, 8, -2, 0, -1]\n",
      "3)  [8, 7, 5, 4, 1, 0, -1, -2] \n",
      "\n",
      "4)  [7, 5, 4]\n",
      "4)  [5, 4, 1, 0, -1] \n",
      "\n",
      "6)  [8, 7, 1, 0, -1, -2] \n",
      "\n",
      "8)  ['Broccoli', 'Carrot', 'Lemon', 'Orange', 'Potatoes', 'Sausages', 'grapes', 'tomatoes'] \n",
      "\n",
      "10)  [4, 5, 'Lemon', 'Broccoli']\n"
     ]
    }
   ],
   "source": [
    "a=[1, 4, 5, 7, 8, -2, 0, -1]\n",
    "print(\"2) \",a[3])\n",
    "print(\"2) \",a[5],\"\\n\")\n",
    "a_sorted=a.copy()\n",
    "a_sorted.sort(reverse=True)\n",
    "print(\"3) \",a)\n",
    "print(\"3) \",a_sorted,\"\\n\")\n",
    "print(\"4) \",a_sorted[1:4])\n",
    "print(\"4) \",a_sorted[2:7],\"\\n\")\n",
    "del a_sorted[2:4]\n",
    "print(\"6) \",a_sorted,\"\\n\")\n",
    "b=[\"grapes\", \"Potatoes\", \"tomatoes\",\"Orange\", \"Lemon\", \"Broccoli\", \"Carrot\", \"Sausages\"]\n",
    "b_sorted=b.copy()\n",
    "b_sorted.sort()\n",
    "print(\"8) \",b_sorted,\"\\n\")\n",
    "c=a[1:3]+b[4:6]\n",
    "print(\"10) \",c)"
   ]
  },
  {
   "cell_type": "markdown",
   "metadata": {},
   "source": [
    "# Sets"
   ]
  },
  {
   "cell_type": "code",
   "execution_count": 47,
   "metadata": {},
   "outputs": [
    {
     "name": "stdout",
     "output_type": "stream",
     "text": [
      "5)  {False, True, 8, 10, 14, 'Cookies', 'Jelly', 'Chocolate', -5, 'Milk', -3}\n",
      "6)  {False, True, 8, 'Chocolate'}\n",
      "7)  {False, True, 8, 'Kit-Kat', 10, 14, 'Cookies', 'Jelly', 'Chocolate', 'Oreo', -5, 'Milk', -3}\n",
      "8)  {False, True, 8, 'Kit-Kat', 10, 14, 'Cookies', 'Jelly', 'Chocolate', 'Oreo', -5, 'Milk', -3}\n",
      "9)  True\n",
      "10)  {False, True, 8, 'Kit-Kat', 10, 14, 'Cookies', 'Jelly', 'Chocolate', -5, 'Milk', -3}\n"
     ]
    }
   ],
   "source": [
    "a1=[\"Cookies\", \"Chocolate\", 8, True, -3, -5,\"Chocolate\", 8, False, 8]\n",
    "b1=[8, True, 10, 14, \"Chocolate\", \"Milk\",\"Jelly\", True, False, True]\n",
    "set_a=set(a1)\n",
    "set_b=set(b1)\n",
    "union_ab=set_a.union(set_b)\n",
    "print(\"5) \",union_ab)\n",
    "intersection_ab=set_a.intersection(set_b)\n",
    "print(\"6) \",intersection_ab)\n",
    "union_ab.add(\"Kit-Kat\")\n",
    "union_ab.add(\"Oreo\")\n",
    "print(\"7) \",union_ab)\n",
    "new_set=union_ab | intersection_ab\n",
    "print(\"8) \",new_set)\n",
    "print(\"9) \",\"Chocolate\" in new_set)\n",
    "new_set.remove(\"Oreo\")\n",
    "print(\"10) \",new_set)"
   ]
  },
  {
   "cell_type": "markdown",
   "metadata": {},
   "source": [
    "# Tuples"
   ]
  },
  {
   "cell_type": "code",
   "execution_count": 68,
   "metadata": {},
   "outputs": [
    {
     "name": "stdout",
     "output_type": "stream",
     "text": [
      "1)  (1, True, 'a', -2, 'Anna')\n",
      "2)  (1, 'a', -2, 'Anna')\n",
      "3)  (1, 2, 3, 4, 5)\n",
      "4)  (1, True, 1, 2, 3)\n",
      "5)  1\n",
      "6)  3\n"
     ]
    }
   ],
   "source": [
    "t1=(1, True, \"a\", -2, \"Anna\")\n",
    "print(\"1) \",t1)\n",
    "t_new=t1[0:1]+t1[2:]\n",
    "print(\"2) \",t_new)\n",
    "t2=(1, 2, 3, 4, 5)\n",
    "print(\"3) \",t2)\n",
    "t3=t1[0:2]+t2[0:3]\n",
    "print(\"4) \",t3)\n",
    "print(\"5) \",t3[2])\n",
    "t4=[(1,3,5), (8,9), (\"Anna\", \"Bob\",\"Alice\")]\n",
    "print(\"6) \",t4[0][1])"
   ]
  },
  {
   "cell_type": "markdown",
   "metadata": {},
   "source": [
    "# Dictionary"
   ]
  },
  {
   "cell_type": "code",
   "execution_count": 6,
   "metadata": {},
   "outputs": [
    {
     "name": "stdout",
     "output_type": "stream",
     "text": [
      "{'dairy': ['yogurt', 'cheese'], 'fruits': ['banana', 'apple', 'orange', 'lemon', 'apple', 'banana', 'banana'], 'candies': ['mars', 'kinder', 'twix']}\n",
      "['banana', 'apple', 'orange', 'lemon', 'apple', 'banana', 'banana']\n",
      "['apple', 'banana', 'lemon', 'orange']\n",
      "{'dairy': ['yogurt', 'cheese'], 'fruits': ['apple', 'banana', 'lemon', 'orange'], 'candies': ['mars', 'kinder', 'twix']}\n"
     ]
    }
   ],
   "source": [
    "Market={\"dairy\": [\"yogurt\", \"cheese\"],\"fruits\": ['banana', 'apple', 'orange', 'lemon', 'apple', 'banana', 'banana']}\n",
    "Market[\"candies\"] = ['mars', 'kinder', 'twix']\n",
    "print(Market)\n",
    "a=Market.get(\"fruits\")\n",
    "print(a)\n",
    "set_a=set(a)\n",
    "list_a=list(set_a)\n",
    "list_a.sort()\n",
    "print(list_a)\n",
    "Market[\"fruits\"]=list_a\n",
    "print(Market)"
   ]
  },
  {
   "cell_type": "code",
   "execution_count": null,
   "metadata": {},
   "outputs": [],
   "source": []
  }
 ],
 "metadata": {
  "kernelspec": {
   "display_name": "Python 3",
   "language": "python",
   "name": "python3"
  },
  "language_info": {
   "codemirror_mode": {
    "name": "ipython",
    "version": 3
   },
   "file_extension": ".py",
   "mimetype": "text/x-python",
   "name": "python",
   "nbconvert_exporter": "python",
   "pygments_lexer": "ipython3",
   "version": "3.7.4"
  }
 },
 "nbformat": 4,
 "nbformat_minor": 2
}
