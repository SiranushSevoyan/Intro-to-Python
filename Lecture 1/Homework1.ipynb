{
 "cells": [
  {
   "cell_type": "markdown",
   "metadata": {},
   "source": [
    "# Problem 1"
   ]
  },
  {
   "cell_type": "code",
   "execution_count": 1,
   "metadata": {},
   "outputs": [],
   "source": [
    "project = \"Cake\"\n",
    "difficulty = 5\n",
    "ingredients = [\"flour\", \"butter\",\"sugar\", \"eggs\", \"cocoa powder\", \"baking powder\"]\n",
    "\n",
    "print (\"apple\" in ingredients)\n",
    "print (\"butter\" in ingredients)\n",
    "print ((\"eggs\" in ingredients) or (\"margarine\" in ingredients))\n",
    "print ((\"eggs\" in ingredients) and (\"margarine\" in ingredients))\n",
    "\n",
    "flour, butter, sugar, eggs, cocoa_powder, baking_powder = 175, 175, '100g', 2, '1ts', 0.5\n",
    "\n",
    "print(\"flour - \" , flour)\n",
    "print(\"butter - \" , butter)\n",
    "print(\"sugar - \" , sugar)\n",
    "print(\"eggs - \" , eggs)\n",
    "print(\"cocoa powder - \" , cocoa_powder)\n",
    "print(\"baking powder - \" , baking_powder)"
   ]
  },
  {
   "cell_type": "markdown",
   "metadata": {},
   "source": [
    "# Problem 3"
   ]
  },
  {
   "cell_type": "code",
   "execution_count": 2,
   "metadata": {},
   "outputs": [],
   "source": [
    "a = 15\n",
    "b = 8\n",
    "c = 2\n",
    "print (5*a**2 - a*b+ (a%2)-a/5)\n",
    "print (b**3 + 3*a*b - 10*c)"
   ]
  },
  {
   "cell_type": "markdown",
   "metadata": {},
   "source": [
    "# Problem 4\n"
   ]
  },
  {
   "cell_type": "code",
   "execution_count": 3,
   "metadata": {},
   "outputs": [
    {
     "name": "stdout",
     "output_type": "stream",
     "text": [
      "Enter the number: 1003\n",
      "1003 is ODD\n"
     ]
    }
   ],
   "source": [
    "number = int(input('Enter the number: '))\n",
    "if number % 2 == 0:\n",
    "    print(number, \"is EVEN\")\n",
    "else:\n",
    "    print(number, \"is ODD\")"
   ]
  },
  {
   "cell_type": "code",
   "execution_count": 4,
   "metadata": {},
   "outputs": [
    {
     "name": "stdout",
     "output_type": "stream",
     "text": [
      "Enter the number: 852\n",
      "852 is EVEN\n"
     ]
    }
   ],
   "source": [
    "number = int(input('Enter the number: '))\n",
    "if number % 2 == 0:\n",
    "    print(number, \"is EVEN\")\n",
    "else:\n",
    "    print(number, \"is ODD\")\n",
    "    "
   ]
  },
  {
   "cell_type": "code",
   "execution_count": null,
   "metadata": {},
   "outputs": [],
   "source": []
  },
  {
   "cell_type": "code",
   "execution_count": null,
   "metadata": {},
   "outputs": [],
   "source": []
  },
  {
   "cell_type": "code",
   "execution_count": null,
   "metadata": {},
   "outputs": [],
   "source": []
  },
  {
   "cell_type": "code",
   "execution_count": null,
   "metadata": {},
   "outputs": [],
   "source": []
  }
 ],
 "metadata": {
  "kernelspec": {
   "display_name": "Python 3",
   "language": "python",
   "name": "python3"
  },
  "language_info": {
   "codemirror_mode": {
    "name": "ipython",
    "version": 3
   },
   "file_extension": ".py",
   "mimetype": "text/x-python",
   "name": "python",
   "nbconvert_exporter": "python",
   "pygments_lexer": "ipython3",
   "version": "3.7.4"
  }
 },
 "nbformat": 4,
 "nbformat_minor": 2
}
