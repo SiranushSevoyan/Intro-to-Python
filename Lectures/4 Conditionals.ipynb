{
 "cells": [
  {
   "cell_type": "markdown",
   "metadata": {},
   "source": [
    "## Conditionals"
   ]
  },
  {
   "cell_type": "markdown",
   "metadata": {
    "collapsed": true
   },
   "source": [
    "### Controling what statements are executed depending if the condition evaluates to True or False."
   ]
  },
  {
   "cell_type": "code",
   "execution_count": 12,
   "metadata": {},
   "outputs": [
    {
     "ename": "SyntaxError",
     "evalue": "invalid syntax (<ipython-input-12-df91cdab1f6a>, line 2)",
     "output_type": "error",
     "traceback": [
      "\u001b[1;36m  File \u001b[1;32m\"<ipython-input-12-df91cdab1f6a>\"\u001b[1;36m, line \u001b[1;32m2\u001b[0m\n\u001b[1;33m    Not Equals: a != b\u001b[0m\n\u001b[1;37m             ^\u001b[0m\n\u001b[1;31mSyntaxError\u001b[0m\u001b[1;31m:\u001b[0m invalid syntax\n"
     ]
    }
   ],
   "source": [
    "Equals: a == b\n",
    "Not Equals: a != b\n",
    "Less than: a < b\n",
    "Less than or equal to: a <= b\n",
    "Greater than: a > b\n",
    "Greater than or equal to: a >= b\n"
   ]
  },
  {
   "cell_type": "code",
   "execution_count": 4,
   "metadata": {},
   "outputs": [
    {
     "name": "stdout",
     "output_type": "stream",
     "text": [
      "The condition was True\n"
     ]
    }
   ],
   "source": [
    "#Pay attention to the spacing\n",
    "if True:\n",
    "    print('The condition was True')"
   ]
  },
  {
   "cell_type": "code",
   "execution_count": 5,
   "metadata": {},
   "outputs": [],
   "source": [
    "if False:\n",
    "    print('The condition was True')"
   ]
  },
  {
   "cell_type": "code",
   "execution_count": 6,
   "metadata": {},
   "outputs": [
    {
     "ename": "IndentationError",
     "evalue": "expected an indented block (<ipython-input-6-d214ebfd6723>, line 2)",
     "output_type": "error",
     "traceback": [
      "\u001b[1;36m  File \u001b[1;32m\"<ipython-input-6-d214ebfd6723>\"\u001b[1;36m, line \u001b[1;32m2\u001b[0m\n\u001b[1;33m    print('The condition was True')\u001b[0m\n\u001b[1;37m        ^\u001b[0m\n\u001b[1;31mIndentationError\u001b[0m\u001b[1;31m:\u001b[0m expected an indented block\n"
     ]
    }
   ],
   "source": [
    "if False:\n",
    "print('The condition was True')"
   ]
  },
  {
   "cell_type": "code",
   "execution_count": 7,
   "metadata": {},
   "outputs": [
    {
     "ename": "NameError",
     "evalue": "name 'name' is not defined",
     "output_type": "error",
     "traceback": [
      "\u001b[1;31m---------------------------------------------------------------------------\u001b[0m",
      "\u001b[1;31mNameError\u001b[0m                                 Traceback (most recent call last)",
      "\u001b[1;32m<ipython-input-7-3fb42b2583f7>\u001b[0m in \u001b[0;36m<module>\u001b[1;34m\u001b[0m\n\u001b[1;32m----> 1\u001b[1;33m \u001b[0mname\u001b[0m \u001b[1;33m==\u001b[0m \u001b[1;34m\"Shahane\"\u001b[0m\u001b[1;33m\u001b[0m\u001b[1;33m\u001b[0m\u001b[0m\n\u001b[0m",
      "\u001b[1;31mNameError\u001b[0m: name 'name' is not defined"
     ]
    }
   ],
   "source": [
    "name == \"Shahane\""
   ]
  },
  {
   "cell_type": "code",
   "execution_count": 8,
   "metadata": {},
   "outputs": [
    {
     "name": "stdout",
     "output_type": "stream",
     "text": [
      "The condition was True\n"
     ]
    }
   ],
   "source": [
    "#Conditions are usually not hardcoded to True or False, like in previous examples\n",
    "#Assigning -> ' = ', testing for equality -> ' == '\n",
    "name = \"Shahane\"\n",
    "if name == \"Shahane\":\n",
    "    print('The condition was True')"
   ]
  },
  {
   "cell_type": "code",
   "execution_count": 9,
   "metadata": {},
   "outputs": [
    {
     "name": "stdout",
     "output_type": "stream",
     "text": [
      "The name is Shahane\n"
     ]
    }
   ],
   "source": [
    "#Do something else if the condition doesn't evaluate to True\n",
    "name = \"Shahane\"  #\"Aram\"\n",
    "if name == \"Shahane\":\n",
    "    print(\"The name is Shahane\")\n",
    "else:\n",
    "    print(\"The name is not Shahane\")"
   ]
  },
  {
   "cell_type": "code",
   "execution_count": 11,
   "metadata": {},
   "outputs": [
    {
     "name": "stdout",
     "output_type": "stream",
     "text": [
      "The name is not in the list\n"
     ]
    }
   ],
   "source": [
    "#Do an additional check\n",
    "\n",
    "name = \"Ani\"  #try changing to \"Shahane\" and \"Ani\"\n",
    "if name == \"Shahane\":\n",
    "    print(\"The name is Shahane\") \n",
    "elif name == \"Aram\":\n",
    "    print(\"The name is Aram\")\n",
    "else:\n",
    "    print(\"The name is not in the list\")"
   ]
  },
  {
   "cell_type": "code",
   "execution_count": 12,
   "metadata": {},
   "outputs": [
    {
     "name": "stdout",
     "output_type": "stream",
     "text": [
      "The name is  Aram\n"
     ]
    }
   ],
   "source": [
    "name = \"Aram\"  #try changing to \"Shahane\" and \"Ani\"\n",
    "if name == \"Shahane\" or name == 'Aram':\n",
    "    print(\"The name is \", name)\n",
    "else:\n",
    "    print(\"The name is not in the list\")"
   ]
  },
  {
   "cell_type": "code",
   "execution_count": 13,
   "metadata": {},
   "outputs": [
    {
     "name": "stdout",
     "output_type": "stream",
     "text": [
      "The name is not in the list\n"
     ]
    }
   ],
   "source": [
    "#We can add more elif statements if needed\n",
    "\n",
    "name = \"Ani\"  #try changing to \"Shahane\" and \"Ani\"\n",
    "if name == \"Shahane\":\n",
    "    print(\"The name is Shahane\")\n",
    "elif name == \"Aram\":\n",
    "    print(\"Hi, Aram\")\n",
    "elif name == \"Anna\":\n",
    "    print(\"Hey, Anna\")\n",
    "elif name == \"Tigran\":\n",
    "    print(\"Hello, Tigran\")\n",
    "else:\n",
    "    print(\"The name is not in the list\")"
   ]
  },
  {
   "cell_type": "markdown",
   "metadata": {},
   "source": [
    "## if if ... if VS if elif elif ... elif"
   ]
  },
  {
   "cell_type": "code",
   "execution_count": 1,
   "metadata": {},
   "outputs": [
    {
     "name": "stdout",
     "output_type": "stream",
     "text": [
      "The name is Ani\n",
      "> 18\n"
     ]
    }
   ],
   "source": [
    "name = \"Ani\" \n",
    "age = 19\n",
    "if name == \"Ani\":\n",
    "    print(\"The name is Ani\")\n",
    "if age > 18:\n",
    "    print(\"> 18\")"
   ]
  },
  {
   "cell_type": "code",
   "execution_count": 2,
   "metadata": {},
   "outputs": [
    {
     "name": "stdout",
     "output_type": "stream",
     "text": [
      "The name is Ani\n"
     ]
    }
   ],
   "source": [
    "name = \"Ani\" \n",
    "age = 19\n",
    "if name == \"Ani\":\n",
    "    print(\"The name is Ani\")\n",
    "elif age > 18:\n",
    "    print(\"> 18\")"
   ]
  },
  {
   "cell_type": "code",
   "execution_count": 14,
   "metadata": {},
   "outputs": [
    {
     "name": "stdout",
     "output_type": "stream",
     "text": [
      "Please register for the course!\n"
     ]
    }
   ],
   "source": [
    "#Let's use boolean operations and, or, not\n",
    "\n",
    "\n",
    "#Both of the conditions have to be True\n",
    "course = \"Python Intro\"\n",
    "registered = False #Try changing to True\n",
    "\n",
    "if course == \"Python Intro\" and registered == True:  #OR we can just write registered instead of registered == True\n",
    "    print(\"Welcome to the class!\")\n",
    "else:\n",
    "    print(\"Please register for the course!\")"
   ]
  },
  {
   "cell_type": "code",
   "execution_count": 15,
   "metadata": {},
   "outputs": [
    {
     "name": "stdout",
     "output_type": "stream",
     "text": [
      "Welcome to the class!\n"
     ]
    }
   ],
   "source": [
    "#Only 1 of the conditions has to be True\n",
    "course = \"Python Intro\"\n",
    "registered = False #Try changing to True\n",
    "\n",
    "if course == \"Python Intro\" or registered == True:  #OR we can just right registered instead of registered == True\n",
    "    print(\"Welcome to the class!\")\n",
    "else:\n",
    "    print(\"Please register for the course!\")"
   ]
  },
  {
   "cell_type": "code",
   "execution_count": 14,
   "metadata": {},
   "outputs": [
    {
     "name": "stdout",
     "output_type": "stream",
     "text": [
      "Please register for the course!\n"
     ]
    }
   ],
   "source": [
    "registered = False #Try changing to True\n",
    "\n",
    "if not registered:\n",
    "    print(\"Please register for the course!\")"
   ]
  },
  {
   "cell_type": "code",
   "execution_count": 15,
   "metadata": {},
   "outputs": [],
   "source": [
    "if \"\":\n",
    "    print(1)"
   ]
  },
  {
   "cell_type": "markdown",
   "metadata": {
    "collapsed": true
   },
   "source": [
    "## False values in Python:\n",
    "    \n",
    "### False\n",
    "### None\n",
    "### Zero of any numeric type\n",
    "### Any empty sequence. E.g. '', (), []\n",
    "### Any empty mapping. E.g. {}"
   ]
  },
  {
   "cell_type": "code",
   "execution_count": 25,
   "metadata": {},
   "outputs": [
    {
     "name": "stdout",
     "output_type": "stream",
     "text": [
      "Evaluated to False\n"
     ]
    }
   ],
   "source": [
    "condition = None  # Try changing this value to False, 0, 0.0, '', (), [], {}; now try changing to, say 10\n",
    "\n",
    "if condition:\n",
    "    print(\"Evaluated to True\")\n",
    "else:\n",
    "    print(\"Evaluated to False\")"
   ]
  },
  {
   "cell_type": "code",
   "execution_count": 2,
   "metadata": {},
   "outputs": [
    {
     "name": "stdout",
     "output_type": "stream",
     "text": [
      "a is greater than b\n"
     ]
    }
   ],
   "source": [
    "a=53\n",
    "b=44\n",
    "if a > b: print(\"a is greater than b\")"
   ]
  },
  {
   "cell_type": "code",
   "execution_count": 3,
   "metadata": {},
   "outputs": [
    {
     "name": "stdout",
     "output_type": "stream",
     "text": [
      "B\n"
     ]
    }
   ],
   "source": [
    "a = 2\n",
    "b = 330\n",
    "print(\"A\") if a > b else print(\"B\")"
   ]
  },
  {
   "cell_type": "code",
   "execution_count": 17,
   "metadata": {},
   "outputs": [
    {
     "name": "stdout",
     "output_type": "stream",
     "text": [
      "=\n"
     ]
    }
   ],
   "source": [
    "a = 330\n",
    "b = 330\n",
    "print(\"A\") if a > b else print(\"=\") if a == b else print(\"B\")\n"
   ]
  },
  {
   "cell_type": "code",
   "execution_count": 7,
   "metadata": {},
   "outputs": [
    {
     "name": "stdout",
     "output_type": "stream",
     "text": [
      "Both conditions are True\n"
     ]
    }
   ],
   "source": [
    "a = 200\n",
    "b = 33\n",
    "c = 500\n",
    "if a > b and c > a:\n",
    "    print(\"Both conditions are True\")"
   ]
  },
  {
   "cell_type": "code",
   "execution_count": 11,
   "metadata": {},
   "outputs": [
    {
     "name": "stdout",
     "output_type": "stream",
     "text": [
      "Above ten,\n",
      "but not above 20.\n"
     ]
    }
   ],
   "source": [
    "x = 17\n",
    "\n",
    "if x > 10:\n",
    "    print(\"Above ten,\")\n",
    "    if x > 20:\n",
    "        print(\"and also above 20!\")\n",
    "    else:\n",
    "        print(\"but not above 20.\")"
   ]
  },
  {
   "cell_type": "code",
   "execution_count": null,
   "metadata": {},
   "outputs": [],
   "source": []
  }
 ],
 "metadata": {
  "kernelspec": {
   "display_name": "Python 3",
   "language": "python",
   "name": "python3"
  },
  "language_info": {
   "codemirror_mode": {
    "name": "ipython",
    "version": 3
   },
   "file_extension": ".py",
   "mimetype": "text/x-python",
   "name": "python",
   "nbconvert_exporter": "python",
   "pygments_lexer": "ipython3",
   "version": "3.7.4"
  }
 },
 "nbformat": 4,
 "nbformat_minor": 2
}
