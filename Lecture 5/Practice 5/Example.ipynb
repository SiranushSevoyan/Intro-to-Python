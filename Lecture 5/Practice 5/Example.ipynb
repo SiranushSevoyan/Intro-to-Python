{
 "cells": [
  {
   "cell_type": "code",
   "execution_count": 1,
   "metadata": {},
   "outputs": [],
   "source": [
    "def simple_print(x):\n",
    "    print(\"Result: \" , x)\n",
    "\n",
    "def pro_print(x):\n",
    "    print(\"The result of the operation is \", x)"
   ]
  },
  {
   "cell_type": "code",
   "execution_count": 5,
   "metadata": {},
   "outputs": [
    {
     "name": "stdout",
     "output_type": "stream",
     "text": [
      "Result:  9\n",
      "The result of the operation is  64\n"
     ]
    }
   ],
   "source": [
    "import pretty_print as pp\n",
    "\n",
    "def calculate_cube(x):\n",
    "    return x**3\n",
    "\n",
    "def calculate_square(x):\n",
    "    return x**2\n",
    "\n",
    "def main():\n",
    "    pp.simple_print(calculate_square(3))\n",
    "    pp.pro_print(calculate_cube(4))\n",
    "\n",
    "\n",
    "main()"
   ]
  },
  {
   "cell_type": "code",
   "execution_count": null,
   "metadata": {},
   "outputs": [],
   "source": []
  }
 ],
 "metadata": {
  "kernelspec": {
   "display_name": "Python 3",
   "language": "python",
   "name": "python3"
  },
  "language_info": {
   "codemirror_mode": {
    "name": "ipython",
    "version": 3
   },
   "file_extension": ".py",
   "mimetype": "text/x-python",
   "name": "python",
   "nbconvert_exporter": "python",
   "pygments_lexer": "ipython3",
   "version": "3.7.4"
  }
 },
 "nbformat": 4,
 "nbformat_minor": 2
}
