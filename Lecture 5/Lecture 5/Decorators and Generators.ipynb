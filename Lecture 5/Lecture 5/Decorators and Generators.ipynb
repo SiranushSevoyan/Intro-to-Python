{
 "cells": [
  {
   "cell_type": "markdown",
   "metadata": {
    "collapsed": true
   },
   "source": [
    "### Decorators -> function wrappers"
   ]
  },
  {
   "cell_type": "code",
   "execution_count": null,
   "metadata": {},
   "outputs": [],
   "source": [
    "#Add extra functionality to different functions without modifying the code. \n",
    "#Ֆունկցիաներին ավելացնել լրացուցիչ ֆունկցիոնալություն առանց ֆունկցիայի ներսի կոդը փոխելու\n",
    "#http://www.tecbar.net/wp-content/uploads/2015/03/Car_Decorator.png"
   ]
  },
  {
   "cell_type": "code",
   "execution_count": 2,
   "metadata": {},
   "outputs": [
    {
     "name": "stdout",
     "output_type": "stream",
     "text": [
      "First argument : Hello\n",
      "Second argument : Everyone\n",
      "Next argument in *args : I\n",
      "Next argument in *args : would\n",
      "Next argument in *args : like\n",
      "Next argument in *args : to\n",
      "Next argument in *args : welcome\n",
      "Next argument in *args : you\n",
      "Next argument in *args : all\n"
     ]
    }
   ],
   "source": [
    "#Function takes multiple arguments -> *args\n",
    "#non-keyword arguments i.e. no argument names\n",
    "def test_func1(arg1, arg2, *args): #name doesn't matter, you can write *var1, *lalala\n",
    "    print (\"First argument :\", arg1) \n",
    "    print (\"Second argument :\", arg2)\n",
    "    for arg in args: \n",
    "        print(\"Next argument in *args :\", arg) \n",
    "  \n",
    "test_func1('Hello', 'Everyone', 'I', 'would', 'like', 'to', 'welcome','you','all') "
   ]
  },
  {
   "cell_type": "code",
   "execution_count": 8,
   "metadata": {},
   "outputs": [
    {
     "name": "stdout",
     "output_type": "stream",
     "text": [
      "key =  first ; value =  100\n",
      "key =  mid ; value =  abc\n",
      "key =  last ; value =  True\n"
     ]
    }
   ],
   "source": [
    "# *kwargs passing a variable number of keyword arguments \n",
    "def test_func2(**kwargs):  \n",
    "    for key, value in kwargs.items(): \n",
    "        print (\"key = \", key, \";\", \"value = \", value) \n",
    "  \n",
    "\n",
    "test_func2(first =100, mid =\"abc\", last=True)"
   ]
  },
  {
   "cell_type": "code",
   "execution_count": 4,
   "metadata": {},
   "outputs": [
    {
     "name": "stdout",
     "output_type": "stream",
     "text": [
      "This is the function 'f'\n",
      "I am calling 'g' now:\n",
      "Hi, it's me 'g'\n",
      "Thanks for calling me\n"
     ]
    }
   ],
   "source": [
    "def f():\n",
    "    \n",
    "    def g():\n",
    "        print(\"Hi, it's me 'g'\")\n",
    "        print(\"Thanks for calling me\")\n",
    "        \n",
    "    print(\"This is the function 'f'\")\n",
    "    print(\"I am calling 'g' now:\")\n",
    "    g()\n",
    "\n",
    "    \n",
    "f()"
   ]
  },
  {
   "cell_type": "code",
   "execution_count": 5,
   "metadata": {},
   "outputs": [
    {
     "name": "stdout",
     "output_type": "stream",
     "text": [
      "It's 68.0 degrees!\n"
     ]
    }
   ],
   "source": [
    "def temperature(t):\n",
    "    def celsius2fahrenheit(x):\n",
    "        return 9 * x / 5 + 32\n",
    "\n",
    "    result = \"It's \" + str(celsius2fahrenheit(t)) + \" degrees!\" \n",
    "    return result\n",
    "\n",
    "print(temperature(20))"
   ]
  },
  {
   "cell_type": "code",
   "execution_count": 9,
   "metadata": {},
   "outputs": [
    {
     "name": "stdout",
     "output_type": "stream",
     "text": [
      "[1, 4, 9, 16, 25, 36, 49, 64, 81]\n",
      "[1, 8, 27, 64, 125, 216, 343, 512, 729]\n"
     ]
    }
   ],
   "source": [
    "def calc_square(numbers):\n",
    "    result = []\n",
    "    for number in numbers:\n",
    "        result.append(number*number)\n",
    "    return result\n",
    "\n",
    "def calc_cube(numbers):\n",
    "    result = []\n",
    "    for number in numbers:\n",
    "        result.append(number*number*number)\n",
    "    return result\n",
    "\n",
    "array = range(1,10)\n",
    "out_square = calc_square(array)\n",
    "out_cube = calc_cube(array)\n",
    "print(out_square)\n",
    "print(out_cube)"
   ]
  },
  {
   "cell_type": "code",
   "execution_count": 13,
   "metadata": {},
   "outputs": [
    {
     "name": "stdout",
     "output_type": "stream",
     "text": [
      "calc_square took:  19.29020881652832  mil_sec\n",
      "calc_cube took:  32.70101547241211  mil_sec\n"
     ]
    }
   ],
   "source": [
    "import time\n",
    "\n",
    "\n",
    "def calc_square(numbers):\n",
    "    start = time.time()\n",
    "    result = []\n",
    "    for number in numbers:\n",
    "        result.append(number*number)\n",
    "    end = time.time()\n",
    "    print('calc_square took: ', str((end-start)*1000), \" mil_sec\")\n",
    "    return result\n",
    "\n",
    "def calc_cube(numbers):\n",
    "    start = time.time()\n",
    "    result = []\n",
    "    for number in numbers:\n",
    "        result.append(number*number*number)\n",
    "    end = time.time()\n",
    "    print('calc_cube took: ', str((end-start)*1000), \" mil_sec\")\n",
    "    return result\n",
    "\n",
    "array = range(1,100000)\n",
    "out_square = calc_square(array)\n",
    "out_cube = calc_cube(array)"
   ]
  },
  {
   "cell_type": "markdown",
   "metadata": {},
   "source": [
    "```\n",
    "A reference to a function \"func\" is passed to a decorator and the decorator returns a modified function or class. The modified functions or classes usually contain calls to the original function \"func\". \n",
    "```"
   ]
  },
  {
   "cell_type": "code",
   "execution_count": 34,
   "metadata": {},
   "outputs": [
    {
     "name": "stdout",
     "output_type": "stream",
     "text": [
      "calc_square took 21.85225486755371mil sec\n",
      "calc_cube took 38.07377815246582mil sec\n"
     ]
    }
   ],
   "source": [
    "import time\n",
    "\n",
    "def my_dec(func):  #my_dec(calc_square)\n",
    "    def wrapper(*args, **kwargs):  #wrapper(array)\n",
    "        start = time.time()\n",
    "        func(*args,**kwargs) #calc_square(array)\n",
    "        end = time.time()\n",
    "        print(func.__name__ +\" took \" + str((end-start)*1000) + \"mil sec\")\n",
    "    return wrapper\n",
    "\n",
    "\n",
    "@my_dec \n",
    "def calc_square(numbers):\n",
    "    result = []\n",
    "    for number in numbers:\n",
    "        result.append(number*number)\n",
    "    return result\n",
    "\n",
    "@my_dec\n",
    "def calc_cube(numbers):\n",
    "    result = []\n",
    "    for number in numbers:\n",
    "        result.append(number*number*number)\n",
    "    return result\n",
    "\n",
    "array = range(1,100000)\n",
    "out_square = calc_square(array)\n",
    "out_cube = calc_cube(array)"
   ]
  },
  {
   "cell_type": "code",
   "execution_count": 31,
   "metadata": {},
   "outputs": [
    {
     "name": "stdout",
     "output_type": "stream",
     "text": [
      "Alice\n"
     ]
    }
   ],
   "source": [
    "def printName(name):\n",
    "    print(name)\n",
    "    \n",
    "printName(\"Alice\")"
   ]
  },
  {
   "cell_type": "code",
   "execution_count": 48,
   "metadata": {},
   "outputs": [
    {
     "name": "stdout",
     "output_type": "stream",
     "text": [
      "before calling the function 2019-11-16 21:43:55.276727\n",
      "Alice\n",
      "after calling the function 2019-11-16 21:43:56.034790\n"
     ]
    }
   ],
   "source": [
    "import datetime\n",
    "\n",
    "def decorator(func):\n",
    "    def wrapper(*args, **kwargs):\n",
    "        print('before calling the function', datetime.datetime.now())\n",
    "        func(*args, **kwargs)\n",
    "        print('after calling the function', datetime.datetime.now())\n",
    "    return wrapper\n",
    "\n",
    "@decorator\n",
    "def printName(name):\n",
    "    for i in range(10000):\n",
    "        a=[0]*10000\n",
    "    print(name)\n",
    "    \n",
    "printName(\"Alice\")"
   ]
  },
  {
   "cell_type": "code",
   "execution_count": 51,
   "metadata": {},
   "outputs": [
    {
     "name": "stdout",
     "output_type": "stream",
     "text": [
      "<i><b>hello world</b></i>\n"
     ]
    }
   ],
   "source": [
    "def makebold(fn):\n",
    "    def wrapped():       \n",
    "        return \"<b>\" + fn() + \"</b>\"\n",
    "    return wrapped\n",
    "\n",
    "def makeitalic(fn):\n",
    "    def wrapped():\n",
    "        return \"<i>\" + fn() + \"</i>\"\n",
    "    return wrapped\n",
    "\n",
    "@makeitalic\n",
    "@makebold\n",
    "\n",
    "def hello():\n",
    "    return \"hello world\"\n",
    "\n",
    "print (hello())"
   ]
  },
  {
   "cell_type": "markdown",
   "metadata": {
    "collapsed": true
   },
   "source": [
    "### Generators"
   ]
  },
  {
   "cell_type": "markdown",
   "metadata": {},
   "source": [
    "```\n",
    "Չեն պահում ամբողջ արդյունքը հիշողության մեջ\n",
    "yield են անում հաջորդ արդյունքը, ամեն անգամ մեկ արժեք\n",
    "Երբ աշխատացնում ենք next ֆունկցիան ստանում ենք yield արած հաջորդ արժեքը\n",
    "Նաև դարձնում են կոդն ավելի ընթեռնելի\n",
    "```"
   ]
  },
  {
   "cell_type": "code",
   "execution_count": 2,
   "metadata": {},
   "outputs": [
    {
     "name": "stdout",
     "output_type": "stream",
     "text": [
      "[1, 4, 9, 16, 25]\n"
     ]
    }
   ],
   "source": [
    "def square_numbers(nums):\n",
    "    my_list = []\n",
    "    for i in nums:\n",
    "        my_list.append(i*i)\n",
    "    return my_list\n",
    "\n",
    "my_nums = square_numbers([1,2,3,4,5])\n",
    "\n",
    "print(my_nums)"
   ]
  },
  {
   "cell_type": "code",
   "execution_count": 3,
   "metadata": {},
   "outputs": [
    {
     "name": "stdout",
     "output_type": "stream",
     "text": [
      "<generator object square_numbers_new at 0x000001B4E6110748>\n"
     ]
    }
   ],
   "source": [
    "def square_numbers_new(nums):\n",
    "     for i in nums:\n",
    "        yield (i*i)\n",
    "\n",
    "my_nums = square_numbers_new([1,2,3,4,5])\n",
    "\n",
    "print(my_nums)"
   ]
  },
  {
   "cell_type": "code",
   "execution_count": 8,
   "metadata": {},
   "outputs": [
    {
     "data": {
      "text/plain": [
       "25"
      ]
     },
     "execution_count": 8,
     "metadata": {},
     "output_type": "execute_result"
    }
   ],
   "source": [
    "next(my_nums)\n"
   ]
  },
  {
   "cell_type": "code",
   "execution_count": 10,
   "metadata": {},
   "outputs": [
    {
     "name": "stdout",
     "output_type": "stream",
     "text": [
      "[]\n"
     ]
    }
   ],
   "source": [
    "print(list(my_nums))"
   ]
  },
  {
   "cell_type": "code",
   "execution_count": 23,
   "metadata": {},
   "outputs": [
    {
     "name": "stdout",
     "output_type": "stream",
     "text": [
      "1\n"
     ]
    }
   ],
   "source": [
    "my_nums = square_numbers_new([1,2,3,4,5])\n",
    "\n",
    "print(next(my_nums))  #print this more times until we run out of values"
   ]
  },
  {
   "cell_type": "markdown",
   "metadata": {},
   "source": [
    "### Կամ կարող ենք տպել արդյունքը generator արված itemներով անցնելով"
   ]
  },
  {
   "cell_type": "code",
   "execution_count": 2,
   "metadata": {},
   "outputs": [],
   "source": [
    "def calculate_square(x):\n",
    "    return x**2"
   ]
  },
  {
   "cell_type": "code",
   "execution_count": 24,
   "metadata": {},
   "outputs": [
    {
     "name": "stdout",
     "output_type": "stream",
     "text": [
      "1\n",
      "4\n",
      "9\n",
      "16\n",
      "25\n"
     ]
    }
   ],
   "source": [
    "my_nums = square_numbers_new([1,2,3,4,5])\n",
    "\n",
    "for n in my_nums:\n",
    "    print(n)"
   ]
  },
  {
   "cell_type": "code",
   "execution_count": 25,
   "metadata": {},
   "outputs": [
    {
     "name": "stdout",
     "output_type": "stream",
     "text": [
      "[1, 4, 9, 16, 25]\n"
     ]
    }
   ],
   "source": [
    "#Using list comprehention \n",
    "my_nums = [x*x for x in [1,2,3,4,5]]\n",
    "\n",
    "print(my_nums)"
   ]
  },
  {
   "cell_type": "code",
   "execution_count": 27,
   "metadata": {},
   "outputs": [
    {
     "name": "stdout",
     "output_type": "stream",
     "text": [
      "<generator object <genexpr> at 0x000001B4E61483C8>\n"
     ]
    }
   ],
   "source": [
    "#Change brackets [ ] -> ( )\n",
    "my_nums = (x*x for x in [1,2,3,4,5])\n",
    "print(my_nums)"
   ]
  },
  {
   "cell_type": "code",
   "execution_count": null,
   "metadata": {},
   "outputs": [],
   "source": [
    "def my_range(n):\n",
    "    yield(\"London\")\n",
    "    yield(\"Hamburg\")\n",
    "    yield(\"Konstanz\")\n",
    "    yield(\"Amsterdam\")\n",
    "    yield(\"Berlin\")\n",
    "    yield(\"Zurich\")\n",
    "    yield(\"Schaffhausen\")\n",
    "    yield(\"Stuttgart\")"
   ]
  },
  {
   "cell_type": "code",
   "execution_count": 29,
   "metadata": {},
   "outputs": [],
   "source": [
    "#Another example\n",
    "def city_generator():\n",
    "    yield(\"London\")\n",
    "    yield(\"Hamburg\")\n",
    "    yield(\"Konstanz\")\n",
    "    yield(\"Amsterdam\")\n",
    "    yield(\"Berlin\")\n",
    "    yield(\"Zurich\")\n",
    "    yield(\"Schaffhausen\")\n",
    "    yield(\"Stuttgart\")\n",
    "    \n"
   ]
  },
  {
   "cell_type": "code",
   "execution_count": 30,
   "metadata": {},
   "outputs": [],
   "source": [
    "gen = city_generator()"
   ]
  },
  {
   "cell_type": "code",
   "execution_count": 32,
   "metadata": {},
   "outputs": [
    {
     "name": "stdout",
     "output_type": "stream",
     "text": [
      "Hamburg\n"
     ]
    }
   ],
   "source": [
    "print(next(gen))"
   ]
  },
  {
   "cell_type": "markdown",
   "metadata": {
    "collapsed": true
   },
   "source": [
    "#### Performance difference"
   ]
  },
  {
   "cell_type": "code",
   "execution_count": 36,
   "metadata": {},
   "outputs": [
    {
     "name": "stderr",
     "output_type": "stream",
     "text": [
      "C:\\Users\\siran\\AppData\\Local\\Continuum\\anaconda3\\lib\\site-packages\\ipykernel_launcher.py:30: DeprecationWarning: time.clock has been deprecated in Python 3.3 and will be removed from Python 3.8: use time.perf_counter or time.process_time instead\n"
     ]
    },
    {
     "name": "stdout",
     "output_type": "stream",
     "text": [
      "8697464\n",
      "Took 3.769427999999607 Seconds\n"
     ]
    },
    {
     "name": "stderr",
     "output_type": "stream",
     "text": [
      "C:\\Users\\siran\\AppData\\Local\\Continuum\\anaconda3\\lib\\site-packages\\ipykernel_launcher.py:32: DeprecationWarning: time.clock has been deprecated in Python 3.3 and will be removed from Python 3.8: use time.perf_counter or time.process_time instead\n"
     ]
    }
   ],
   "source": [
    "import sys\n",
    "import random\n",
    "import time\n",
    "\n",
    "names = ['John', 'Corey', 'Adam', 'Steve', 'Rick', 'Thomas']\n",
    "majors = ['Math', 'Engineering', 'CompSci', 'Arts', 'Business']\n",
    "\n",
    "\n",
    "\n",
    "def people_list(num_people):\n",
    "    result = []\n",
    "    for i in range(num_people):\n",
    "        person = {\n",
    "                    'id': i,\n",
    "                    'name': random.choice(names),\n",
    "                    'major': random.choice(majors)\n",
    "                }\n",
    "        result.append(person)\n",
    "    return result\n",
    "\n",
    "def people_generator(num_people):\n",
    "    for i in range(num_people):\n",
    "        person = {\n",
    "                    'id': i,\n",
    "                    'name': random.choice(names),\n",
    "                    'major': random.choice(majors)\n",
    "                }\n",
    "        yield person\n",
    "\n",
    "t1 = time.clock()\n",
    "people = people_list(1000000)\n",
    "t2 = time.clock()\n",
    "\"\"\"\n",
    "t1 = time.clock()\n",
    "people = people_generator(1000000)   #list(people_generator(1000000))\n",
    "t2 = time.clock()\n",
    "\"\"\"\n",
    "print (sys.getsizeof(people))  # Memory size of the object in bytes\n",
    "print ('Took {} Seconds'.format(t2-t1))"
   ]
  },
  {
   "cell_type": "code",
   "execution_count": null,
   "metadata": {},
   "outputs": [],
   "source": []
  }
 ],
 "metadata": {
  "kernelspec": {
   "display_name": "Python 3",
   "language": "python",
   "name": "python3"
  },
  "language_info": {
   "codemirror_mode": {
    "name": "ipython",
    "version": 3
   },
   "file_extension": ".py",
   "mimetype": "text/x-python",
   "name": "python",
   "nbconvert_exporter": "python",
   "pygments_lexer": "ipython3",
   "version": "3.7.4"
  }
 },
 "nbformat": 4,
 "nbformat_minor": 2
}
