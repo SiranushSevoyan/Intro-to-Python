{
 "cells": [
  {
   "cell_type": "markdown",
   "metadata": {},
   "source": [
    "## Problem 1\n"
   ]
  },
  {
   "cell_type": "code",
   "execution_count": 1,
   "metadata": {},
   "outputs": [
    {
     "name": "stdout",
     "output_type": "stream",
     "text": [
      "No numbers given\n"
     ]
    }
   ],
   "source": [
    "def func(*argv):\n",
    "    for x in argv:\n",
    "        return(max(argv))\n",
    "    if len(argv)==0:\n",
    "        print(\"No numbers given\")\n",
    "        \n",
    "        \n",
    "#func(1,2,3,4,5,89,3,2)\n",
    "func()"
   ]
  },
  {
   "cell_type": "markdown",
   "metadata": {},
   "source": [
    "## Problem 2"
   ]
  },
  {
   "cell_type": "code",
   "execution_count": 9,
   "metadata": {},
   "outputs": [
    {
     "name": "stdout",
     "output_type": "stream",
     "text": [
      "1\n",
      "2\n",
      "3\n",
      "4\n",
      "5\n",
      "6\n",
      "7\n",
      "89\n",
      "[1, 2, 3, 4, 5, 6, 7, 89]\n"
     ]
    }
   ],
   "source": [
    "list1=[1,2,3,4,5,6,7,1,2,3,4,5,6,7,89]\n",
    "list2=[]\n",
    "def func(list1):\n",
    "    for x in list1:\n",
    "        if x not in list2:\n",
    "            list2.append(x)\n",
    "    for x in list2:\n",
    "        print(x)\n",
    "        \n",
    "func(list1)\n",
    "print(list2)\n",
    "#we can convert to set if the sequence is not "
   ]
  },
  {
   "cell_type": "markdown",
   "metadata": {},
   "source": [
    "## Problem 3"
   ]
  },
  {
   "cell_type": "code",
   "execution_count": 3,
   "metadata": {},
   "outputs": [
    {
     "name": "stdout",
     "output_type": "stream",
     "text": [
      "Before function call\n",
      "Inside the function\n",
      "After the function call\n"
     ]
    }
   ],
   "source": [
    "def dec(func):\n",
    "    def wrapper(*args):\n",
    "        print(\"Before function call\")\n",
    "        func(*args)\n",
    "        print(\"After the function call\")\n",
    "    return wrapper\n",
    "@dec\n",
    "def add_string():\n",
    "    print(\"Inside the function\")\n",
    "            \n",
    "add_string()"
   ]
  },
  {
   "cell_type": "markdown",
   "metadata": {},
   "source": [
    "## Problem 4"
   ]
  },
  {
   "cell_type": "code",
   "execution_count": 4,
   "metadata": {},
   "outputs": [
    {
     "name": "stdout",
     "output_type": "stream",
     "text": [
      "<u>Hi, it’s me!</u>\n"
     ]
    }
   ],
   "source": [
    "def dec1(func):\n",
    "    def wrapped():       \n",
    "        return func() + \", it’s me!\"\n",
    "    return wrapped\n",
    "\n",
    "def dec2(func):\n",
    "    def wrapped():\n",
    "        return \"<u>\" + func() + \"</u>\"\n",
    "    return wrapped\n",
    "\n",
    "@dec2\n",
    "@dec1\n",
    "\n",
    "def greeting():\n",
    "    return \"Hi\"\n",
    "\n",
    "print (greeting())"
   ]
  },
  {
   "cell_type": "markdown",
   "metadata": {},
   "source": [
    "## Problem 5"
   ]
  },
  {
   "cell_type": "code",
   "execution_count": 5,
   "metadata": {},
   "outputs": [],
   "source": [
    "def my_range(n):\n",
    "    c=0\n",
    "    while c<=n:\n",
    "        yield c\n",
    "        c+=1\n",
    "        if c>n:\n",
    "            print(\"There are no values left\")\n",
    "\n",
    "b = my_range(2)"
   ]
  },
  {
   "cell_type": "code",
   "execution_count": 9,
   "metadata": {},
   "outputs": [
    {
     "name": "stdout",
     "output_type": "stream",
     "text": [
      "There are no values left\n"
     ]
    },
    {
     "ename": "StopIteration",
     "evalue": "",
     "output_type": "error",
     "traceback": [
      "\u001b[1;31m---------------------------------------------------------------------------\u001b[0m",
      "\u001b[1;31mStopIteration\u001b[0m                             Traceback (most recent call last)",
      "\u001b[1;32m<ipython-input-9-adb3e17b0219>\u001b[0m in \u001b[0;36m<module>\u001b[1;34m\u001b[0m\n\u001b[1;32m----> 1\u001b[1;33m \u001b[0mnext\u001b[0m\u001b[1;33m(\u001b[0m\u001b[0mb\u001b[0m\u001b[1;33m)\u001b[0m\u001b[1;33m\u001b[0m\u001b[1;33m\u001b[0m\u001b[0m\n\u001b[0m",
      "\u001b[1;31mStopIteration\u001b[0m: "
     ]
    }
   ],
   "source": [
    "next(b)"
   ]
  },
  {
   "cell_type": "markdown",
   "metadata": {},
   "source": [
    "## Problem 6"
   ]
  },
  {
   "cell_type": "code",
   "execution_count": 10,
   "metadata": {},
   "outputs": [
    {
     "data": {
      "text/plain": [
       "False"
      ]
     },
     "execution_count": 10,
     "metadata": {},
     "output_type": "execute_result"
    }
   ],
   "source": [
    "products = {'candy':10,\"juice\": 5,\"pen\":50}\n",
    "\n",
    "def check(name, qtt):\n",
    "    #for key, value in products.items():\n",
    "        if name in products and qtt<=products[name]:\n",
    "            return True\n",
    "        else:\n",
    "            return False\n",
    "check(\"pen\",457)"
   ]
  },
  {
   "cell_type": "code",
   "execution_count": 11,
   "metadata": {},
   "outputs": [
    {
     "name": "stdout",
     "output_type": "stream",
     "text": [
      "You bought candy and spent  10\n"
     ]
    }
   ],
   "source": [
    "import Productcheck as prod\n",
    "\n",
    "def buy(product, num, price):\n",
    "    if prod.check(product, num):\n",
    "        print(\"You bought \" + product + \" and spent \", num * price)\n",
    "    else:\n",
    "        print(\"Sorry! We are out of this product.\")\n",
    "\n",
    "def main():\n",
    "    buy('candy', 1, 10)\n",
    "\n",
    "main()"
   ]
  },
  {
   "cell_type": "code",
   "execution_count": null,
   "metadata": {},
   "outputs": [],
   "source": []
  }
 ],
 "metadata": {
  "kernelspec": {
   "display_name": "Python 3",
   "language": "python",
   "name": "python3"
  },
  "language_info": {
   "codemirror_mode": {
    "name": "ipython",
    "version": 3
   },
   "file_extension": ".py",
   "mimetype": "text/x-python",
   "name": "python",
   "nbconvert_exporter": "python",
   "pygments_lexer": "ipython3",
   "version": "3.7.4"
  }
 },
 "nbformat": 4,
 "nbformat_minor": 2
}
