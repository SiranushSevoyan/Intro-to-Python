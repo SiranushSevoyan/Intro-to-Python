{
 "cells": [
  {
   "cell_type": "code",
   "execution_count": 1,
   "metadata": {},
   "outputs": [
    {
     "data": {
      "text/plain": [
       "False"
      ]
     },
     "execution_count": 1,
     "metadata": {},
     "output_type": "execute_result"
    }
   ],
   "source": [
    "products = {'candy':10,\"juice\": 5,\"pen\":50}\n",
    "\n",
    "def check(name, qtt):\n",
    "        if name in products and qtt<=products[name]:\n",
    "            return True\n",
    "        else:\n",
    "            return False\n",
    "check(\"pen\",457)"
   ]
  },
  {
   "cell_type": "code",
   "execution_count": 4,
   "metadata": {},
   "outputs": [
    {
     "name": "stdout",
     "output_type": "stream",
     "text": [
      "You bought juice and spent  50\n"
     ]
    }
   ],
   "source": [
    "import Productcheck as prod\n",
    "\n",
    "def buy(product, num, price):\n",
    "    if prod.check(product, num):\n",
    "        print(\"You bought \" + product + \" and spent \", num * price)\n",
    "    else:\n",
    "        print(\"Sorry! We are out of this product.\")\n",
    "\n",
    "def main():\n",
    "    buy('juice', 5, 10)\n",
    "\n",
    "main()"
   ]
  },
  {
   "cell_type": "code",
   "execution_count": null,
   "metadata": {},
   "outputs": [],
   "source": []
  }
 ],
 "metadata": {
  "kernelspec": {
   "display_name": "Python 3",
   "language": "python",
   "name": "python3"
  },
  "language_info": {
   "codemirror_mode": {
    "name": "ipython",
    "version": 3
   },
   "file_extension": ".py",
   "mimetype": "text/x-python",
   "name": "python",
   "nbconvert_exporter": "python",
   "pygments_lexer": "ipython3",
   "version": "3.7.4"
  }
 },
 "nbformat": 4,
 "nbformat_minor": 2
}
