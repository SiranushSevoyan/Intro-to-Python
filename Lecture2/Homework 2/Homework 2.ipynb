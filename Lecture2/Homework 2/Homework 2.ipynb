{
 "cells": [
  {
   "cell_type": "markdown",
   "metadata": {},
   "source": [
    "# Problem 1\n"
   ]
  },
  {
   "cell_type": "code",
   "execution_count": 159,
   "metadata": {},
   "outputs": [
    {
     "name": "stdout",
     "output_type": "stream",
     "text": [
      "Current date:  2019-11-02 01:08:56.975697\n",
      "Given years:  2\n",
      "Given days:  None\n",
      "Final Date:  2021-11-02 01:08:56.975697\n",
      "Final Date:  2021-11-02 01:08:56.975697\n"
     ]
    }
   ],
   "source": [
    "run Problem1.py --num_y=2"
   ]
  },
  {
   "cell_type": "markdown",
   "metadata": {},
   "source": [
    "# Problem 2"
   ]
  },
  {
   "cell_type": "code",
   "execution_count": 16,
   "metadata": {},
   "outputs": [
    {
     "name": "stdout",
     "output_type": "stream",
     "text": [
      "The old string::  abcdefghijk\n",
      "Middle 3 characters:  efg\n",
      "Middle 3 characters:  abcdEFGhijk\n"
     ]
    }
   ],
   "source": [
    "run Problem2.py \"abcdefghijk\""
   ]
  },
  {
   "cell_type": "markdown",
   "metadata": {},
   "source": [
    "# Problem 3"
   ]
  },
  {
   "cell_type": "code",
   "execution_count": 22,
   "metadata": {},
   "outputs": [
    {
     "name": "stdout",
     "output_type": "stream",
     "text": [
      "The given text:  This text is a sample text\n",
      "First word:  text\n",
      "Second word:  image\n",
      "Output string:  This image is a sample image\n"
     ]
    }
   ],
   "source": [
    "run Problem3.py \"This text is a sample text\" \"text\" \"image\""
   ]
  },
  {
   "cell_type": "markdown",
   "metadata": {},
   "source": [
    "# Problem 4"
   ]
  },
  {
   "cell_type": "code",
   "execution_count": 32,
   "metadata": {},
   "outputs": [
    {
     "name": "stdout",
     "output_type": "stream",
     "text": [
      "The given string:  Welcome to USA. usa is awesome, isn’t it?\n",
      "The USA/usa count is:  2\n",
      "The new string:  Welcome to Armenia. Armenia is awesome, isn’t it?\n"
     ]
    }
   ],
   "source": [
    "run Problem4.py \"Welcome to USA. usa is awesome, isn’t it?\""
   ]
  },
  {
   "cell_type": "markdown",
   "metadata": {},
   "source": [
    "# Problem 5"
   ]
  },
  {
   "cell_type": "code",
   "execution_count": 69,
   "metadata": {},
   "outputs": [
    {
     "name": "stdout",
     "output_type": "stream",
     "text": [
      "My birthday:  1994-02-12\n",
      "The year of my birthday:  1994\n",
      "The month of my birthday:  2\n",
      "The day of my birthday:  12\n",
      "The weekday of my birthday:  6\n",
      "How many days are left till my upcoming birthday:  103 days, 0:00:00\n",
      "      May 2017\n",
      "Mo Tu We Th Fr Sa Su\n",
      " 1  2  3  4  5  6  7\n",
      " 8  9 10 11 12 13 14\n",
      "15 16 17 18 19 20 21\n",
      "22 23 24 25 26 27 28\n",
      "29 30 31\n",
      "\n",
      "Yesterday:  2019-10-31 22:56:18.931314\n"
     ]
    }
   ],
   "source": [
    "run Problem5.py"
   ]
  }
 ],
 "metadata": {
  "kernelspec": {
   "display_name": "Python 3",
   "language": "python",
   "name": "python3"
  },
  "language_info": {
   "codemirror_mode": {
    "name": "ipython",
    "version": 3
   },
   "file_extension": ".py",
   "mimetype": "text/x-python",
   "name": "python",
   "nbconvert_exporter": "python",
   "pygments_lexer": "ipython3",
   "version": "3.7.4"
  }
 },
 "nbformat": 4,
 "nbformat_minor": 2
}
